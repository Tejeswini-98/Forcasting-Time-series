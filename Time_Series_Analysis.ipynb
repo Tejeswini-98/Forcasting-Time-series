{
  "cells": [
    {
      "cell_type": "markdown",
      "metadata": {
        "id": "view-in-github",
        "colab_type": "text"
      },
      "source": [
        "<a href=\"https://colab.research.google.com/github/Tejeswini-98/Forcasting-Time-series/blob/main/Time_Series_Analysis.ipynb\" target=\"_parent\"><img src=\"https://colab.research.google.com/assets/colab-badge.svg\" alt=\"Open In Colab\"/></a>"
      ]
    },
    {
      "cell_type": "markdown",
      "id": "b97dd8be",
      "metadata": {
        "id": "b97dd8be"
      },
      "source": [
        "## 1. Import Necessary libraries"
      ]
    },
    {
      "cell_type": "code",
      "execution_count": null,
      "id": "9579109f",
      "metadata": {
        "id": "9579109f"
      },
      "outputs": [],
      "source": [
        "import pandas as pd\n",
        "from matplotlib import pyplot as plt\n",
        "import seaborn as sns\n",
        "\n",
        "import warnings\n",
        "warnings.filterwarnings('ignore')"
      ]
    },
    {
      "cell_type": "markdown",
      "id": "40054f5a",
      "metadata": {
        "id": "40054f5a"
      },
      "source": [
        "## 2. Import Data"
      ]
    },
    {
      "cell_type": "code",
      "execution_count": null,
      "id": "b226dc06",
      "metadata": {
        "id": "b226dc06",
        "outputId": "02b97c0d-31d8-4d48-ec63-91f2dd69993b"
      },
      "outputs": [
        {
          "data": {
            "text/html": [
              "<div>\n",
              "<style scoped>\n",
              "    .dataframe tbody tr th:only-of-type {\n",
              "        vertical-align: middle;\n",
              "    }\n",
              "\n",
              "    .dataframe tbody tr th {\n",
              "        vertical-align: top;\n",
              "    }\n",
              "\n",
              "    .dataframe thead th {\n",
              "        text-align: right;\n",
              "    }\n",
              "</style>\n",
              "<table border=\"1\" class=\"dataframe\">\n",
              "  <thead>\n",
              "    <tr style=\"text-align: right;\">\n",
              "      <th></th>\n",
              "      <th>Date</th>\n",
              "      <th>Temp</th>\n",
              "    </tr>\n",
              "  </thead>\n",
              "  <tbody>\n",
              "    <tr>\n",
              "      <th>0</th>\n",
              "      <td>1981-01-01</td>\n",
              "      <td>20.7</td>\n",
              "    </tr>\n",
              "    <tr>\n",
              "      <th>1</th>\n",
              "      <td>1981-01-02</td>\n",
              "      <td>17.9</td>\n",
              "    </tr>\n",
              "    <tr>\n",
              "      <th>2</th>\n",
              "      <td>1981-01-03</td>\n",
              "      <td>18.8</td>\n",
              "    </tr>\n",
              "    <tr>\n",
              "      <th>3</th>\n",
              "      <td>1981-01-04</td>\n",
              "      <td>14.6</td>\n",
              "    </tr>\n",
              "    <tr>\n",
              "      <th>4</th>\n",
              "      <td>1981-01-05</td>\n",
              "      <td>15.8</td>\n",
              "    </tr>\n",
              "    <tr>\n",
              "      <th>...</th>\n",
              "      <td>...</td>\n",
              "      <td>...</td>\n",
              "    </tr>\n",
              "    <tr>\n",
              "      <th>3645</th>\n",
              "      <td>1990-12-27</td>\n",
              "      <td>14.0</td>\n",
              "    </tr>\n",
              "    <tr>\n",
              "      <th>3646</th>\n",
              "      <td>1990-12-28</td>\n",
              "      <td>13.6</td>\n",
              "    </tr>\n",
              "    <tr>\n",
              "      <th>3647</th>\n",
              "      <td>1990-12-29</td>\n",
              "      <td>13.5</td>\n",
              "    </tr>\n",
              "    <tr>\n",
              "      <th>3648</th>\n",
              "      <td>1990-12-30</td>\n",
              "      <td>15.7</td>\n",
              "    </tr>\n",
              "    <tr>\n",
              "      <th>3649</th>\n",
              "      <td>1990-12-31</td>\n",
              "      <td>13.0</td>\n",
              "    </tr>\n",
              "  </tbody>\n",
              "</table>\n",
              "<p>3650 rows × 2 columns</p>\n",
              "</div>"
            ],
            "text/plain": [
              "            Date  Temp\n",
              "0     1981-01-01  20.7\n",
              "1     1981-01-02  17.9\n",
              "2     1981-01-03  18.8\n",
              "3     1981-01-04  14.6\n",
              "4     1981-01-05  15.8\n",
              "...          ...   ...\n",
              "3645  1990-12-27  14.0\n",
              "3646  1990-12-28  13.6\n",
              "3647  1990-12-29  13.5\n",
              "3648  1990-12-30  15.7\n",
              "3649  1990-12-31  13.0\n",
              "\n",
              "[3650 rows x 2 columns]"
            ]
          },
          "execution_count": 3,
          "metadata": {},
          "output_type": "execute_result"
        }
      ],
      "source": [
        "daily_temp = pd.read_csv('daily-minimum-temperatures.csv',)\n",
        "daily_temp"
      ]
    },
    {
      "cell_type": "markdown",
      "id": "1a83e218",
      "metadata": {
        "id": "1a83e218"
      },
      "source": [
        "## 3. Data Understanding"
      ]
    },
    {
      "cell_type": "markdown",
      "id": "021e85c9",
      "metadata": {
        "id": "021e85c9"
      },
      "source": [
        "### 3.1 Initial Analysis"
      ]
    },
    {
      "cell_type": "code",
      "execution_count": null,
      "id": "399970fd",
      "metadata": {
        "id": "399970fd",
        "outputId": "bfa301a5-d9f1-4afd-ffcc-784ec5f81b1a"
      },
      "outputs": [
        {
          "data": {
            "text/plain": [
              "(3650, 2)"
            ]
          },
          "execution_count": 4,
          "metadata": {},
          "output_type": "execute_result"
        }
      ],
      "source": [
        "daily_temp.shape"
      ]
    },
    {
      "cell_type": "code",
      "execution_count": null,
      "id": "73a67304",
      "metadata": {
        "id": "73a67304",
        "outputId": "542fe69b-d28d-4fe2-f243-5189fda077ee"
      },
      "outputs": [
        {
          "data": {
            "text/plain": [
              "Date    0\n",
              "Temp    0\n",
              "dtype: int64"
            ]
          },
          "execution_count": 5,
          "metadata": {},
          "output_type": "execute_result"
        }
      ],
      "source": [
        "daily_temp.isna().sum()"
      ]
    },
    {
      "cell_type": "code",
      "execution_count": null,
      "id": "a73a1b4c",
      "metadata": {
        "id": "a73a1b4c",
        "outputId": "9486e1fa-1c9b-4e1d-d2c1-b7e1fad05803"
      },
      "outputs": [
        {
          "data": {
            "text/plain": [
              "Date     object\n",
              "Temp    float64\n",
              "dtype: object"
            ]
          },
          "execution_count": 6,
          "metadata": {},
          "output_type": "execute_result"
        }
      ],
      "source": [
        "daily_temp.dtypes"
      ]
    },
    {
      "cell_type": "markdown",
      "id": "0677f518",
      "metadata": {
        "id": "0677f518"
      },
      "source": [
        "### 3.2 EDA"
      ]
    },
    {
      "cell_type": "code",
      "execution_count": null,
      "id": "e8379ab8",
      "metadata": {
        "id": "e8379ab8",
        "outputId": "4b2cf143-e031-41a8-f21d-a2c281fac0f5"
      },
      "outputs": [
        {
          "data": {
            "image/png": "[encoded data removed]",
            "text/plain": [
              "<Figure size 432x288 with 1 Axes>"
            ]
          },
          "metadata": {
            "needs_background": "light"
          },
          "output_type": "display_data"
        }
      ],
      "source": [
        "plt.plot(daily_temp['Date'],daily_temp['Temp'])\n",
        "plt.show()"
      ]
    },
    {
      "cell_type": "markdown",
      "id": "e211f39f",
      "metadata": {
        "id": "e211f39f"
      },
      "source": [
        "### To display this chart in a better war so that we can get the Dates in X-axis, do the following."
      ]
    },
    {
      "cell_type": "code",
      "execution_count": null,
      "id": "5be7857d",
      "metadata": {
        "id": "5be7857d",
        "outputId": "80017572-7f22-4600-91ba-ae5a8e02cca3"
      },
      "outputs": [
        {
          "data": {
            "text/html": [
              "<div>\n",
              "<style scoped>\n",
              "    .dataframe tbody tr th:only-of-type {\n",
              "        vertical-align: middle;\n",
              "    }\n",
              "\n",
              "    .dataframe tbody tr th {\n",
              "        vertical-align: top;\n",
              "    }\n",
              "\n",
              "    .dataframe thead th {\n",
              "        text-align: right;\n",
              "    }\n",
              "</style>\n",
              "<table border=\"1\" class=\"dataframe\">\n",
              "  <thead>\n",
              "    <tr style=\"text-align: right;\">\n",
              "      <th></th>\n",
              "      <th>Temp</th>\n",
              "    </tr>\n",
              "    <tr>\n",
              "      <th>Date</th>\n",
              "      <th></th>\n",
              "    </tr>\n",
              "  </thead>\n",
              "  <tbody>\n",
              "    <tr>\n",
              "      <th>1981-01-01</th>\n",
              "      <td>20.7</td>\n",
              "    </tr>\n",
              "    <tr>\n",
              "      <th>1981-01-02</th>\n",
              "      <td>17.9</td>\n",
              "    </tr>\n",
              "    <tr>\n",
              "      <th>1981-01-03</th>\n",
              "      <td>18.8</td>\n",
              "    </tr>\n",
              "    <tr>\n",
              "      <th>1981-01-04</th>\n",
              "      <td>14.6</td>\n",
              "    </tr>\n",
              "    <tr>\n",
              "      <th>1981-01-05</th>\n",
              "      <td>15.8</td>\n",
              "    </tr>\n",
              "    <tr>\n",
              "      <th>...</th>\n",
              "      <td>...</td>\n",
              "    </tr>\n",
              "    <tr>\n",
              "      <th>1990-12-27</th>\n",
              "      <td>14.0</td>\n",
              "    </tr>\n",
              "    <tr>\n",
              "      <th>1990-12-28</th>\n",
              "      <td>13.6</td>\n",
              "    </tr>\n",
              "    <tr>\n",
              "      <th>1990-12-29</th>\n",
              "      <td>13.5</td>\n",
              "    </tr>\n",
              "    <tr>\n",
              "      <th>1990-12-30</th>\n",
              "      <td>15.7</td>\n",
              "    </tr>\n",
              "    <tr>\n",
              "      <th>1990-12-31</th>\n",
              "      <td>13.0</td>\n",
              "    </tr>\n",
              "  </tbody>\n",
              "</table>\n",
              "<p>3650 rows × 1 columns</p>\n",
              "</div>"
            ],
            "text/plain": [
              "            Temp\n",
              "Date            \n",
              "1981-01-01  20.7\n",
              "1981-01-02  17.9\n",
              "1981-01-03  18.8\n",
              "1981-01-04  14.6\n",
              "1981-01-05  15.8\n",
              "...          ...\n",
              "1990-12-27  14.0\n",
              "1990-12-28  13.6\n",
              "1990-12-29  13.5\n",
              "1990-12-30  15.7\n",
              "1990-12-31  13.0\n",
              "\n",
              "[3650 rows x 1 columns]"
            ]
          },
          "execution_count": 17,
          "metadata": {},
          "output_type": "execute_result"
        }
      ],
      "source": [
        "temp_data = pd.read_csv('daily-minimum-temperatures.csv',index_col=0,parse_dates=True)\n",
        "temp_data"
      ]
    },
    {
      "cell_type": "code",
      "execution_count": null,
      "id": "6956bcce",
      "metadata": {
        "id": "6956bcce",
        "outputId": "ce194d18-dba6-4977-851d-250534494b93"
      },
      "outputs": [
        {
          "data": {
            "image/png": "[encoded data removed]",
            "text/plain": [
              "<Figure size 1008x432 with 1 Axes>"
            ]
          },
          "metadata": {
            "needs_background": "light"
          },
          "output_type": "display_data"
        }
      ],
      "source": [
        "plt.figure(figsize=(14,6))\n",
        "plt.plot(temp_data['Temp'])\n",
        "plt.xlabel('Year')\n",
        "plt.ylabel('Temperature')\n",
        "plt.title('Year-wise Temperature between 1981-1990',size = 20)\n",
        "plt.show()"
      ]
    },
    {
      "cell_type": "code",
      "execution_count": null,
      "id": "e06fc61d",
      "metadata": {
        "id": "e06fc61d",
        "outputId": "07cc2cd1-15a2-4901-a95a-b2675b28e79a"
      },
      "outputs": [
        {
          "data": {
            "image/png": "[encoded data removed]",
            "text/plain": [
              "<Figure size 432x288 with 1 Axes>"
            ]
          },
          "metadata": {
            "needs_background": "light"
          },
          "output_type": "display_data"
        }
      ],
      "source": [
        "sns.distplot(a = temp_data['Temp'],hist=False)\n",
        "plt.title('Temperature Distribution')\n",
        "plt.show()"
      ]
    },
    {
      "cell_type": "markdown",
      "id": "bb8439fc",
      "metadata": {
        "id": "bb8439fc"
      },
      "source": [
        "### Year-wise and Month-wise Temperature Fluctuations"
      ]
    },
    {
      "cell_type": "code",
      "execution_count": null,
      "id": "5e55641f",
      "metadata": {
        "id": "5e55641f",
        "outputId": "0a2d0768-b2e4-4b6b-eca8-522d1dafdee8"
      },
      "outputs": [
        {
          "data": {
            "text/html": [
              "<div>\n",
              "<style scoped>\n",
              "    .dataframe tbody tr th:only-of-type {\n",
              "        vertical-align: middle;\n",
              "    }\n",
              "\n",
              "    .dataframe tbody tr th {\n",
              "        vertical-align: top;\n",
              "    }\n",
              "\n",
              "    .dataframe thead th {\n",
              "        text-align: right;\n",
              "    }\n",
              "</style>\n",
              "<table border=\"1\" class=\"dataframe\">\n",
              "  <thead>\n",
              "    <tr style=\"text-align: right;\">\n",
              "      <th></th>\n",
              "      <th>Temp</th>\n",
              "    </tr>\n",
              "    <tr>\n",
              "      <th>Date</th>\n",
              "      <th></th>\n",
              "    </tr>\n",
              "  </thead>\n",
              "  <tbody>\n",
              "    <tr>\n",
              "      <th>1981-01-01</th>\n",
              "      <td>20.7</td>\n",
              "    </tr>\n",
              "    <tr>\n",
              "      <th>1981-01-02</th>\n",
              "      <td>17.9</td>\n",
              "    </tr>\n",
              "    <tr>\n",
              "      <th>1981-01-03</th>\n",
              "      <td>18.8</td>\n",
              "    </tr>\n",
              "    <tr>\n",
              "      <th>1981-01-04</th>\n",
              "      <td>14.6</td>\n",
              "    </tr>\n",
              "    <tr>\n",
              "      <th>1981-01-05</th>\n",
              "      <td>15.8</td>\n",
              "    </tr>\n",
              "    <tr>\n",
              "      <th>1981-01-06</th>\n",
              "      <td>15.8</td>\n",
              "    </tr>\n",
              "    <tr>\n",
              "      <th>1981-01-07</th>\n",
              "      <td>15.8</td>\n",
              "    </tr>\n",
              "    <tr>\n",
              "      <th>1981-01-08</th>\n",
              "      <td>17.4</td>\n",
              "    </tr>\n",
              "    <tr>\n",
              "      <th>1981-01-09</th>\n",
              "      <td>21.8</td>\n",
              "    </tr>\n",
              "    <tr>\n",
              "      <th>1981-01-10</th>\n",
              "      <td>20.0</td>\n",
              "    </tr>\n",
              "  </tbody>\n",
              "</table>\n",
              "</div>"
            ],
            "text/plain": [
              "            Temp\n",
              "Date            \n",
              "1981-01-01  20.7\n",
              "1981-01-02  17.9\n",
              "1981-01-03  18.8\n",
              "1981-01-04  14.6\n",
              "1981-01-05  15.8\n",
              "1981-01-06  15.8\n",
              "1981-01-07  15.8\n",
              "1981-01-08  17.4\n",
              "1981-01-09  21.8\n",
              "1981-01-10  20.0"
            ]
          },
          "execution_count": 28,
          "metadata": {},
          "output_type": "execute_result"
        }
      ],
      "source": [
        "temp_data.head(10)"
      ]
    },
    {
      "cell_type": "code",
      "execution_count": null,
      "id": "2d0eda8c",
      "metadata": {
        "id": "2d0eda8c",
        "outputId": "2b9b4cda-410d-499f-9b28-8c7ce6aae924"
      },
      "outputs": [
        {
          "data": {
            "image/png": "[encoded data removed]",
            "text/plain": [
              "<Figure size 432x288 with 1 Axes>"
            ]
          },
          "metadata": {
            "needs_background": "light"
          },
          "output_type": "display_data"
        }
      ],
      "source": [
        "plt.boxplot(x = 'Temp',data = temp_data)\n",
        "plt.show()"
      ]
    },
    {
      "cell_type": "code",
      "execution_count": null,
      "id": "b402dfc4",
      "metadata": {
        "id": "b402dfc4"
      },
      "outputs": [],
      "source": [
        "\n",
        "from pandas import DataFrame\n",
        "from pandas import Grouper\n",
        "\n",
        "series = read_csv('daily-minimum-temperatures.csv', header=0, index_col=0,parse_dates=True)\n",
        "groups = series.groupby(Grouper(freq='A'))\n",
        "years = DataFrame()\n",
        "for name, group in groups:\n",
        "    years[name.year] = group.values\n",
        "years.boxplot()\n",
        "pyplot.show()"
      ]
    },
    {
      "cell_type": "code",
      "execution_count": null,
      "id": "399ba34c",
      "metadata": {
        "id": "399ba34c",
        "outputId": "e20b7d41-e21d-49ea-f983-ea262f3ee82b"
      },
      "outputs": [
        {
          "data": {
            "text/plain": [
              "Date\n",
              "1981-01-01    20.7\n",
              "1981-01-02    17.9\n",
              "1981-01-03    18.8\n",
              "1981-01-04    14.6\n",
              "1981-01-05    15.8\n",
              "              ... \n",
              "1990-12-27    14.0\n",
              "1990-12-28    13.6\n",
              "1990-12-29    13.5\n",
              "1990-12-30    15.7\n",
              "1990-12-31    13.0\n",
              "Name: Temp, Length: 3650, dtype: float64"
            ]
          },
          "execution_count": 43,
          "metadata": {},
          "output_type": "execute_result"
        }
      ],
      "source": [
        "temp_data_squeezed = pd.read_csv('daily-minimum-temperatures.csv',index_col=0,parse_dates=True,squeeze = True)\n",
        "temp_data_squeezed"
      ]
    },
    {
      "cell_type": "code",
      "execution_count": null,
      "id": "af182249",
      "metadata": {
        "id": "af182249",
        "outputId": "eed5d797-d824-4e23-c6cd-c35c27837d22"
      },
      "outputs": [
        {
          "data": {
            "text/html": [
              "<div>\n",
              "<style scoped>\n",
              "    .dataframe tbody tr th:only-of-type {\n",
              "        vertical-align: middle;\n",
              "    }\n",
              "\n",
              "    .dataframe tbody tr th {\n",
              "        vertical-align: top;\n",
              "    }\n",
              "\n",
              "    .dataframe thead th {\n",
              "        text-align: right;\n",
              "    }\n",
              "</style>\n",
              "<table border=\"1\" class=\"dataframe\">\n",
              "  <thead>\n",
              "    <tr style=\"text-align: right;\">\n",
              "      <th></th>\n",
              "      <th>1981</th>\n",
              "      <th>1982</th>\n",
              "      <th>1983</th>\n",
              "      <th>1984</th>\n",
              "      <th>1985</th>\n",
              "      <th>1986</th>\n",
              "      <th>1987</th>\n",
              "      <th>1988</th>\n",
              "      <th>1989</th>\n",
              "      <th>1990</th>\n",
              "    </tr>\n",
              "  </thead>\n",
              "  <tbody>\n",
              "    <tr>\n",
              "      <th>0</th>\n",
              "      <td>20.7</td>\n",
              "      <td>17.0</td>\n",
              "      <td>18.4</td>\n",
              "      <td>19.5</td>\n",
              "      <td>13.3</td>\n",
              "      <td>12.9</td>\n",
              "      <td>12.3</td>\n",
              "      <td>15.3</td>\n",
              "      <td>14.3</td>\n",
              "      <td>14.8</td>\n",
              "    </tr>\n",
              "    <tr>\n",
              "      <th>1</th>\n",
              "      <td>17.9</td>\n",
              "      <td>15.0</td>\n",
              "      <td>15.0</td>\n",
              "      <td>17.1</td>\n",
              "      <td>15.2</td>\n",
              "      <td>13.8</td>\n",
              "      <td>13.8</td>\n",
              "      <td>14.3</td>\n",
              "      <td>17.4</td>\n",
              "      <td>13.3</td>\n",
              "    </tr>\n",
              "    <tr>\n",
              "      <th>2</th>\n",
              "      <td>18.8</td>\n",
              "      <td>13.5</td>\n",
              "      <td>10.9</td>\n",
              "      <td>17.1</td>\n",
              "      <td>13.1</td>\n",
              "      <td>10.6</td>\n",
              "      <td>15.3</td>\n",
              "      <td>13.5</td>\n",
              "      <td>18.5</td>\n",
              "      <td>15.6</td>\n",
              "    </tr>\n",
              "    <tr>\n",
              "      <th>3</th>\n",
              "      <td>14.6</td>\n",
              "      <td>15.2</td>\n",
              "      <td>11.4</td>\n",
              "      <td>12.0</td>\n",
              "      <td>12.7</td>\n",
              "      <td>12.6</td>\n",
              "      <td>15.6</td>\n",
              "      <td>15.0</td>\n",
              "      <td>16.8</td>\n",
              "      <td>14.5</td>\n",
              "    </tr>\n",
              "    <tr>\n",
              "      <th>4</th>\n",
              "      <td>15.8</td>\n",
              "      <td>13.0</td>\n",
              "      <td>14.8</td>\n",
              "      <td>11.0</td>\n",
              "      <td>14.6</td>\n",
              "      <td>13.7</td>\n",
              "      <td>16.2</td>\n",
              "      <td>13.6</td>\n",
              "      <td>11.5</td>\n",
              "      <td>14.3</td>\n",
              "    </tr>\n",
              "    <tr>\n",
              "      <th>...</th>\n",
              "      <td>...</td>\n",
              "      <td>...</td>\n",
              "      <td>...</td>\n",
              "      <td>...</td>\n",
              "      <td>...</td>\n",
              "      <td>...</td>\n",
              "      <td>...</td>\n",
              "      <td>...</td>\n",
              "      <td>...</td>\n",
              "      <td>...</td>\n",
              "    </tr>\n",
              "    <tr>\n",
              "      <th>360</th>\n",
              "      <td>15.5</td>\n",
              "      <td>15.3</td>\n",
              "      <td>13.9</td>\n",
              "      <td>12.2</td>\n",
              "      <td>11.5</td>\n",
              "      <td>14.6</td>\n",
              "      <td>16.2</td>\n",
              "      <td>9.5</td>\n",
              "      <td>13.3</td>\n",
              "      <td>14.0</td>\n",
              "    </tr>\n",
              "    <tr>\n",
              "      <th>361</th>\n",
              "      <td>13.3</td>\n",
              "      <td>16.3</td>\n",
              "      <td>11.1</td>\n",
              "      <td>12.0</td>\n",
              "      <td>10.8</td>\n",
              "      <td>14.2</td>\n",
              "      <td>14.2</td>\n",
              "      <td>12.9</td>\n",
              "      <td>11.7</td>\n",
              "      <td>13.6</td>\n",
              "    </tr>\n",
              "    <tr>\n",
              "      <th>362</th>\n",
              "      <td>15.6</td>\n",
              "      <td>15.8</td>\n",
              "      <td>16.1</td>\n",
              "      <td>12.6</td>\n",
              "      <td>12.0</td>\n",
              "      <td>13.2</td>\n",
              "      <td>14.3</td>\n",
              "      <td>12.9</td>\n",
              "      <td>10.4</td>\n",
              "      <td>13.5</td>\n",
              "    </tr>\n",
              "    <tr>\n",
              "      <th>363</th>\n",
              "      <td>15.2</td>\n",
              "      <td>17.7</td>\n",
              "      <td>20.4</td>\n",
              "      <td>16.0</td>\n",
              "      <td>16.3</td>\n",
              "      <td>11.7</td>\n",
              "      <td>13.3</td>\n",
              "      <td>14.8</td>\n",
              "      <td>14.4</td>\n",
              "      <td>15.7</td>\n",
              "    </tr>\n",
              "    <tr>\n",
              "      <th>364</th>\n",
              "      <td>17.4</td>\n",
              "      <td>16.3</td>\n",
              "      <td>18.0</td>\n",
              "      <td>16.4</td>\n",
              "      <td>14.4</td>\n",
              "      <td>17.2</td>\n",
              "      <td>16.7</td>\n",
              "      <td>14.1</td>\n",
              "      <td>12.7</td>\n",
              "      <td>13.0</td>\n",
              "    </tr>\n",
              "  </tbody>\n",
              "</table>\n",
              "<p>365 rows × 10 columns</p>\n",
              "</div>"
            ],
            "text/plain": [
              "     1981  1982  1983  1984  1985  1986  1987  1988  1989  1990\n",
              "0    20.7  17.0  18.4  19.5  13.3  12.9  12.3  15.3  14.3  14.8\n",
              "1    17.9  15.0  15.0  17.1  15.2  13.8  13.8  14.3  17.4  13.3\n",
              "2    18.8  13.5  10.9  17.1  13.1  10.6  15.3  13.5  18.5  15.6\n",
              "3    14.6  15.2  11.4  12.0  12.7  12.6  15.6  15.0  16.8  14.5\n",
              "4    15.8  13.0  14.8  11.0  14.6  13.7  16.2  13.6  11.5  14.3\n",
              "..    ...   ...   ...   ...   ...   ...   ...   ...   ...   ...\n",
              "360  15.5  15.3  13.9  12.2  11.5  14.6  16.2   9.5  13.3  14.0\n",
              "361  13.3  16.3  11.1  12.0  10.8  14.2  14.2  12.9  11.7  13.6\n",
              "362  15.6  15.8  16.1  12.6  12.0  13.2  14.3  12.9  10.4  13.5\n",
              "363  15.2  17.7  20.4  16.0  16.3  11.7  13.3  14.8  14.4  15.7\n",
              "364  17.4  16.3  18.0  16.4  14.4  17.2  16.7  14.1  12.7  13.0\n",
              "\n",
              "[365 rows x 10 columns]"
            ]
          },
          "execution_count": 54,
          "metadata": {},
          "output_type": "execute_result"
        }
      ],
      "source": [
        "from pandas import DataFrame\n",
        "from pandas import Grouper\n",
        "\n",
        "groups = temp_data_squeezed.groupby(Grouper(freq = 'A'))\n",
        "years = DataFrame()\n",
        "\n",
        "for name, group in groups:\n",
        "    years[name.year] = group.values\n",
        "years  "
      ]
    },
    {
      "cell_type": "code",
      "execution_count": null,
      "id": "6394a5a6",
      "metadata": {
        "id": "6394a5a6",
        "outputId": "0738f6f8-901f-4059-c229-263ccfa3282d"
      },
      "outputs": [
        {
          "data": {
            "text/plain": [
              "<AxesSubplot:>"
            ]
          },
          "execution_count": 55,
          "metadata": {},
          "output_type": "execute_result"
        },
        {
          "data": {
            "image/png": "[encoded data removed]",
            "text/plain": [
              "<Figure size 432x288 with 1 Axes>"
            ]
          },
          "metadata": {
            "needs_background": "light"
          },
          "output_type": "display_data"
        }
      ],
      "source": [
        "years.boxplot()"
      ]
    },
    {
      "cell_type": "markdown",
      "id": "25ae85b9",
      "metadata": {
        "id": "25ae85b9"
      },
      "source": [
        "## Lap Plot"
      ]
    },
    {
      "cell_type": "code",
      "execution_count": null,
      "id": "f89c5b78",
      "metadata": {
        "id": "f89c5b78",
        "outputId": "6febe999-64f1-496f-f9d1-910c75a25892"
      },
      "outputs": [
        {
          "data": {
            "image/png": "[encoded data removed]",
            "text/plain": [
              "<Figure size 432x288 with 1 Axes>"
            ]
          },
          "metadata": {
            "needs_background": "light"
          },
          "output_type": "display_data"
        }
      ],
      "source": [
        "from pandas.plotting import lag_plot\n",
        "lag_plot(temp_data_squeezed)\n",
        "plt.show()"
      ]
    },
    {
      "cell_type": "markdown",
      "id": "6be65ca0",
      "metadata": {
        "id": "6be65ca0"
      },
      "source": [
        "## ACF Plot"
      ]
    },
    {
      "cell_type": "code",
      "execution_count": null,
      "id": "c5a9c0fe",
      "metadata": {
        "id": "c5a9c0fe",
        "outputId": "aa6544fd-488b-4871-b91a-7b942cdcab63"
      },
      "outputs": [
        {
          "data": {
            "image/png": "[encoded data removed]",
            "text/plain": [
              "<Figure size 432x288 with 1 Axes>"
            ]
          },
          "metadata": {
            "needs_background": "light"
          },
          "output_type": "display_data"
        }
      ],
      "source": [
        "from statsmodels.graphics.tsaplots import plot_acf\n",
        "plot_acf(temp_data,lags=70)\n",
        "plt.show()"
      ]
    },
    {
      "cell_type": "markdown",
      "id": "cb86bd96",
      "metadata": {
        "id": "cb86bd96"
      },
      "source": [
        "# THE END!!"
      ]
    }
  ],
  "metadata": {
    "kernelspec": {
      "display_name": "Python 3",
      "language": "python",
      "name": "python3"
    },
    "language_info": {
      "codemirror_mode": {
        "name": "ipython",
        "version": 3
      },
      "file_extension": ".py",
      "mimetype": "text/x-python",
      "name": "python",
      "nbconvert_exporter": "python",
      "pygments_lexer": "ipython3",
      "version": "3.8.8"
    },
    "colab": {
      "provenance": [],
      "include_colab_link": true
    }
  },
  "nbformat": 4,
  "nbformat_minor": 5
}